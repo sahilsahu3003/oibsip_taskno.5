{
 "cells": [
  {
   "cell_type": "code",
   "execution_count": 1,
   "id": "f0b2dfa8",
   "metadata": {
    "execution": {
     "iopub.execute_input": "2023-07-19T17:11:55.134135Z",
     "iopub.status.busy": "2023-07-19T17:11:55.133525Z",
     "iopub.status.idle": "2023-07-19T17:11:55.140020Z",
     "shell.execute_reply": "2023-07-19T17:11:55.138944Z"
    },
    "papermill": {
     "duration": 0.030601,
     "end_time": "2023-07-19T17:11:55.144692",
     "exception": false,
     "start_time": "2023-07-19T17:11:55.114091",
     "status": "completed"
    },
    "tags": []
   },
   "outputs": [],
   "source": [
    "# Oasis Infobyte \n",
    "# Data Science Internship \n",
    "# Task 5 Sales Prediction Using Python\n",
    "# Submitted by - Sahil Sahu "
   ]
  },
  {
   "cell_type": "code",
   "execution_count": 2,
   "id": "08db8c00",
   "metadata": {
    "execution": {
     "iopub.execute_input": "2023-07-19T17:11:55.180587Z",
     "iopub.status.busy": "2023-07-19T17:11:55.179989Z",
     "iopub.status.idle": "2023-07-19T17:11:55.185470Z",
     "shell.execute_reply": "2023-07-19T17:11:55.184340Z"
    },
    "papermill": {
     "duration": 0.026142,
     "end_time": "2023-07-19T17:11:55.187875",
     "exception": false,
     "start_time": "2023-07-19T17:11:55.161733",
     "status": "completed"
    },
    "tags": []
   },
   "outputs": [],
   "source": [
    "# Problem Statement "
   ]
  },
  {
   "cell_type": "code",
   "execution_count": 3,
   "id": "9531bd3c",
   "metadata": {
    "execution": {
     "iopub.execute_input": "2023-07-19T17:11:55.225691Z",
     "iopub.status.busy": "2023-07-19T17:11:55.225194Z",
     "iopub.status.idle": "2023-07-19T17:11:55.230534Z",
     "shell.execute_reply": "2023-07-19T17:11:55.229406Z"
    },
    "papermill": {
     "duration": 0.026681,
     "end_time": "2023-07-19T17:11:55.233141",
     "exception": false,
     "start_time": "2023-07-19T17:11:55.206460",
     "status": "completed"
    },
    "tags": []
   },
   "outputs": [],
   "source": [
    "# Sales prediction means predicting how much of a product people will buy based on factors\n",
    "# such as the amount you spend to advertise your product, the segment of people you\n",
    "# advertise for, or the platform you are advertising on about your product.\n",
    "# Typically, a product and service-based business always need their Data Scientist to predict\n",
    "# their future sales with every step they take to manipulate the cost of advertising their\n",
    "# product."
   ]
  },
  {
   "cell_type": "code",
   "execution_count": 4,
   "id": "ce33cf29",
   "metadata": {
    "execution": {
     "iopub.execute_input": "2023-07-19T17:11:55.270204Z",
     "iopub.status.busy": "2023-07-19T17:11:55.269335Z",
     "iopub.status.idle": "2023-07-19T17:11:55.274462Z",
     "shell.execute_reply": "2023-07-19T17:11:55.273232Z"
    },
    "papermill": {
     "duration": 0.026136,
     "end_time": "2023-07-19T17:11:55.277068",
     "exception": false,
     "start_time": "2023-07-19T17:11:55.250932",
     "status": "completed"
    },
    "tags": []
   },
   "outputs": [],
   "source": [
    "# Importing Necessary Libraries "
   ]
  },
  {
   "cell_type": "code",
   "execution_count": 5,
   "id": "d4e6c4a1",
   "metadata": {
    "execution": {
     "iopub.execute_input": "2023-07-19T17:11:55.313880Z",
     "iopub.status.busy": "2023-07-19T17:11:55.313410Z",
     "iopub.status.idle": "2023-07-19T17:11:57.010469Z",
     "shell.execute_reply": "2023-07-19T17:11:57.009428Z"
    },
    "papermill": {
     "duration": 1.719348,
     "end_time": "2023-07-19T17:11:57.013649",
     "exception": false,
     "start_time": "2023-07-19T17:11:55.294301",
     "status": "completed"
    },
    "tags": []
   },
   "outputs": [],
   "source": [
    "import warnings\n",
    "warnings.filterwarnings(\"ignore\")\n",
    "import pandas as pd \n",
    "import numpy as np \n",
    "import seaborn as sns \n",
    "from sklearn.linear_model import LinearRegression\n",
    "from sklearn.model_selection import train_test_split\n",
    "from sklearn.metrics import mean_squared_error\n",
    "import matplotlib.pyplot as plt\n",
    "import ipywidgets as widgets\n",
    "from sklearn.metrics import mean_absolute_error\n",
    "from IPython.display import display"
   ]
  },
  {
   "cell_type": "code",
   "execution_count": 6,
   "id": "6842e4dd",
   "metadata": {
    "execution": {
     "iopub.execute_input": "2023-07-19T17:11:57.051020Z",
     "iopub.status.busy": "2023-07-19T17:11:57.050263Z",
     "iopub.status.idle": "2023-07-19T17:11:57.054718Z",
     "shell.execute_reply": "2023-07-19T17:11:57.053597Z"
    },
    "papermill": {
     "duration": 0.025791,
     "end_time": "2023-07-19T17:11:57.057004",
     "exception": false,
     "start_time": "2023-07-19T17:11:57.031213",
     "status": "completed"
    },
    "tags": []
   },
   "outputs": [],
   "source": [
    "# Importing the Given Dataset "
   ]
  },
  {
   "cell_type": "code",
   "execution_count": 7,
   "id": "1191da27",
   "metadata": {
    "execution": {
     "iopub.execute_input": "2023-07-19T17:11:57.093488Z",
     "iopub.status.busy": "2023-07-19T17:11:57.092977Z",
     "iopub.status.idle": "2023-07-19T17:11:57.140985Z",
     "shell.execute_reply": "2023-07-19T17:11:57.139732Z"
    },
    "papermill": {
     "duration": 0.069345,
     "end_time": "2023-07-19T17:11:57.143450",
     "exception": false,
     "start_time": "2023-07-19T17:11:57.074105",
     "status": "completed"
    },
    "tags": []
   },
   "outputs": [
    {
     "name": "stdout",
     "output_type": "stream",
     "text": [
      "Given Dataset:\n"
     ]
    },
    {
     "data": {
      "text/html": [
       "<div>\n",
       "<style scoped>\n",
       "    .dataframe tbody tr th:only-of-type {\n",
       "        vertical-align: middle;\n",
       "    }\n",
       "\n",
       "    .dataframe tbody tr th {\n",
       "        vertical-align: top;\n",
       "    }\n",
       "\n",
       "    .dataframe thead th {\n",
       "        text-align: right;\n",
       "    }\n",
       "</style>\n",
       "<table border=\"1\" class=\"dataframe\">\n",
       "  <thead>\n",
       "    <tr style=\"text-align: right;\">\n",
       "      <th></th>\n",
       "      <th>TV</th>\n",
       "      <th>Radio</th>\n",
       "      <th>Newspaper</th>\n",
       "      <th>Sales</th>\n",
       "    </tr>\n",
       "  </thead>\n",
       "  <tbody>\n",
       "    <tr>\n",
       "      <th>0</th>\n",
       "      <td>230.1</td>\n",
       "      <td>37.8</td>\n",
       "      <td>69.2</td>\n",
       "      <td>22.1</td>\n",
       "    </tr>\n",
       "    <tr>\n",
       "      <th>1</th>\n",
       "      <td>44.5</td>\n",
       "      <td>39.3</td>\n",
       "      <td>45.1</td>\n",
       "      <td>10.4</td>\n",
       "    </tr>\n",
       "    <tr>\n",
       "      <th>2</th>\n",
       "      <td>17.2</td>\n",
       "      <td>45.9</td>\n",
       "      <td>69.3</td>\n",
       "      <td>9.3</td>\n",
       "    </tr>\n",
       "    <tr>\n",
       "      <th>3</th>\n",
       "      <td>151.5</td>\n",
       "      <td>41.3</td>\n",
       "      <td>58.5</td>\n",
       "      <td>18.5</td>\n",
       "    </tr>\n",
       "    <tr>\n",
       "      <th>4</th>\n",
       "      <td>180.8</td>\n",
       "      <td>10.8</td>\n",
       "      <td>58.4</td>\n",
       "      <td>12.9</td>\n",
       "    </tr>\n",
       "    <tr>\n",
       "      <th>...</th>\n",
       "      <td>...</td>\n",
       "      <td>...</td>\n",
       "      <td>...</td>\n",
       "      <td>...</td>\n",
       "    </tr>\n",
       "    <tr>\n",
       "      <th>195</th>\n",
       "      <td>38.2</td>\n",
       "      <td>3.7</td>\n",
       "      <td>13.8</td>\n",
       "      <td>7.6</td>\n",
       "    </tr>\n",
       "    <tr>\n",
       "      <th>196</th>\n",
       "      <td>94.2</td>\n",
       "      <td>4.9</td>\n",
       "      <td>8.1</td>\n",
       "      <td>9.7</td>\n",
       "    </tr>\n",
       "    <tr>\n",
       "      <th>197</th>\n",
       "      <td>177.0</td>\n",
       "      <td>9.3</td>\n",
       "      <td>6.4</td>\n",
       "      <td>12.8</td>\n",
       "    </tr>\n",
       "    <tr>\n",
       "      <th>198</th>\n",
       "      <td>283.6</td>\n",
       "      <td>42.0</td>\n",
       "      <td>66.2</td>\n",
       "      <td>25.5</td>\n",
       "    </tr>\n",
       "    <tr>\n",
       "      <th>199</th>\n",
       "      <td>232.1</td>\n",
       "      <td>8.6</td>\n",
       "      <td>8.7</td>\n",
       "      <td>13.4</td>\n",
       "    </tr>\n",
       "  </tbody>\n",
       "</table>\n",
       "<p>200 rows × 4 columns</p>\n",
       "</div>"
      ],
      "text/plain": [
       "        TV  Radio  Newspaper  Sales\n",
       "0    230.1   37.8       69.2   22.1\n",
       "1     44.5   39.3       45.1   10.4\n",
       "2     17.2   45.9       69.3    9.3\n",
       "3    151.5   41.3       58.5   18.5\n",
       "4    180.8   10.8       58.4   12.9\n",
       "..     ...    ...        ...    ...\n",
       "195   38.2    3.7       13.8    7.6\n",
       "196   94.2    4.9        8.1    9.7\n",
       "197  177.0    9.3        6.4   12.8\n",
       "198  283.6   42.0       66.2   25.5\n",
       "199  232.1    8.6        8.7   13.4\n",
       "\n",
       "[200 rows x 4 columns]"
      ]
     },
     "execution_count": 7,
     "metadata": {},
     "output_type": "execute_result"
    }
   ],
   "source": [
    "df=pd.read_csv(\"/kaggle/input/advertisingcsv/Advertising.csv\")\n",
    "df=df.drop('Unnamed: 0', axis=1)\n",
    "print (\"Given Dataset:\")\n",
    "df"
   ]
  },
  {
   "cell_type": "code",
   "execution_count": 8,
   "id": "5f91699a",
   "metadata": {
    "execution": {
     "iopub.execute_input": "2023-07-19T17:11:57.181672Z",
     "iopub.status.busy": "2023-07-19T17:11:57.181204Z",
     "iopub.status.idle": "2023-07-19T17:11:57.186513Z",
     "shell.execute_reply": "2023-07-19T17:11:57.185395Z"
    },
    "papermill": {
     "duration": 0.027698,
     "end_time": "2023-07-19T17:11:57.188723",
     "exception": false,
     "start_time": "2023-07-19T17:11:57.161025",
     "status": "completed"
    },
    "tags": []
   },
   "outputs": [],
   "source": [
    "# Reading and Understanding the Given Dataset"
   ]
  },
  {
   "cell_type": "code",
   "execution_count": 9,
   "id": "98410845",
   "metadata": {
    "execution": {
     "iopub.execute_input": "2023-07-19T17:11:57.226811Z",
     "iopub.status.busy": "2023-07-19T17:11:57.226321Z",
     "iopub.status.idle": "2023-07-19T17:11:57.234195Z",
     "shell.execute_reply": "2023-07-19T17:11:57.232846Z"
    },
    "papermill": {
     "duration": 0.030382,
     "end_time": "2023-07-19T17:11:57.236489",
     "exception": false,
     "start_time": "2023-07-19T17:11:57.206107",
     "status": "completed"
    },
    "tags": []
   },
   "outputs": [
    {
     "data": {
      "text/plain": [
       "(200, 4)"
      ]
     },
     "execution_count": 9,
     "metadata": {},
     "output_type": "execute_result"
    }
   ],
   "source": [
    "df.shape"
   ]
  },
  {
   "cell_type": "code",
   "execution_count": 10,
   "id": "13c48e24",
   "metadata": {
    "execution": {
     "iopub.execute_input": "2023-07-19T17:11:57.274167Z",
     "iopub.status.busy": "2023-07-19T17:11:57.273647Z",
     "iopub.status.idle": "2023-07-19T17:11:57.293844Z",
     "shell.execute_reply": "2023-07-19T17:11:57.292884Z"
    },
    "papermill": {
     "duration": 0.042247,
     "end_time": "2023-07-19T17:11:57.296443",
     "exception": false,
     "start_time": "2023-07-19T17:11:57.254196",
     "status": "completed"
    },
    "tags": []
   },
   "outputs": [
    {
     "name": "stdout",
     "output_type": "stream",
     "text": [
      "<class 'pandas.core.frame.DataFrame'>\n",
      "RangeIndex: 200 entries, 0 to 199\n",
      "Data columns (total 4 columns):\n",
      " #   Column     Non-Null Count  Dtype  \n",
      "---  ------     --------------  -----  \n",
      " 0   TV         200 non-null    float64\n",
      " 1   Radio      200 non-null    float64\n",
      " 2   Newspaper  200 non-null    float64\n",
      " 3   Sales      200 non-null    float64\n",
      "dtypes: float64(4)\n",
      "memory usage: 6.4 KB\n"
     ]
    }
   ],
   "source": [
    "df.info()"
   ]
  },
  {
   "cell_type": "code",
   "execution_count": 11,
   "id": "a3307973",
   "metadata": {
    "execution": {
     "iopub.execute_input": "2023-07-19T17:11:57.334813Z",
     "iopub.status.busy": "2023-07-19T17:11:57.333971Z",
     "iopub.status.idle": "2023-07-19T17:11:57.363166Z",
     "shell.execute_reply": "2023-07-19T17:11:57.362017Z"
    },
    "papermill": {
     "duration": 0.051013,
     "end_time": "2023-07-19T17:11:57.365475",
     "exception": false,
     "start_time": "2023-07-19T17:11:57.314462",
     "status": "completed"
    },
    "tags": []
   },
   "outputs": [
    {
     "data": {
      "text/html": [
       "<div>\n",
       "<style scoped>\n",
       "    .dataframe tbody tr th:only-of-type {\n",
       "        vertical-align: middle;\n",
       "    }\n",
       "\n",
       "    .dataframe tbody tr th {\n",
       "        vertical-align: top;\n",
       "    }\n",
       "\n",
       "    .dataframe thead th {\n",
       "        text-align: right;\n",
       "    }\n",
       "</style>\n",
       "<table border=\"1\" class=\"dataframe\">\n",
       "  <thead>\n",
       "    <tr style=\"text-align: right;\">\n",
       "      <th></th>\n",
       "      <th>TV</th>\n",
       "      <th>Radio</th>\n",
       "      <th>Newspaper</th>\n",
       "      <th>Sales</th>\n",
       "    </tr>\n",
       "  </thead>\n",
       "  <tbody>\n",
       "    <tr>\n",
       "      <th>count</th>\n",
       "      <td>200.000000</td>\n",
       "      <td>200.000000</td>\n",
       "      <td>200.000000</td>\n",
       "      <td>200.000000</td>\n",
       "    </tr>\n",
       "    <tr>\n",
       "      <th>mean</th>\n",
       "      <td>147.042500</td>\n",
       "      <td>23.264000</td>\n",
       "      <td>30.554000</td>\n",
       "      <td>14.022500</td>\n",
       "    </tr>\n",
       "    <tr>\n",
       "      <th>std</th>\n",
       "      <td>85.854236</td>\n",
       "      <td>14.846809</td>\n",
       "      <td>21.778621</td>\n",
       "      <td>5.217457</td>\n",
       "    </tr>\n",
       "    <tr>\n",
       "      <th>min</th>\n",
       "      <td>0.700000</td>\n",
       "      <td>0.000000</td>\n",
       "      <td>0.300000</td>\n",
       "      <td>1.600000</td>\n",
       "    </tr>\n",
       "    <tr>\n",
       "      <th>25%</th>\n",
       "      <td>74.375000</td>\n",
       "      <td>9.975000</td>\n",
       "      <td>12.750000</td>\n",
       "      <td>10.375000</td>\n",
       "    </tr>\n",
       "    <tr>\n",
       "      <th>50%</th>\n",
       "      <td>149.750000</td>\n",
       "      <td>22.900000</td>\n",
       "      <td>25.750000</td>\n",
       "      <td>12.900000</td>\n",
       "    </tr>\n",
       "    <tr>\n",
       "      <th>75%</th>\n",
       "      <td>218.825000</td>\n",
       "      <td>36.525000</td>\n",
       "      <td>45.100000</td>\n",
       "      <td>17.400000</td>\n",
       "    </tr>\n",
       "    <tr>\n",
       "      <th>max</th>\n",
       "      <td>296.400000</td>\n",
       "      <td>49.600000</td>\n",
       "      <td>114.000000</td>\n",
       "      <td>27.000000</td>\n",
       "    </tr>\n",
       "  </tbody>\n",
       "</table>\n",
       "</div>"
      ],
      "text/plain": [
       "               TV       Radio   Newspaper       Sales\n",
       "count  200.000000  200.000000  200.000000  200.000000\n",
       "mean   147.042500   23.264000   30.554000   14.022500\n",
       "std     85.854236   14.846809   21.778621    5.217457\n",
       "min      0.700000    0.000000    0.300000    1.600000\n",
       "25%     74.375000    9.975000   12.750000   10.375000\n",
       "50%    149.750000   22.900000   25.750000   12.900000\n",
       "75%    218.825000   36.525000   45.100000   17.400000\n",
       "max    296.400000   49.600000  114.000000   27.000000"
      ]
     },
     "execution_count": 11,
     "metadata": {},
     "output_type": "execute_result"
    }
   ],
   "source": [
    "df.describe()"
   ]
  },
  {
   "cell_type": "code",
   "execution_count": 12,
   "id": "e111f948",
   "metadata": {
    "execution": {
     "iopub.execute_input": "2023-07-19T17:11:57.403446Z",
     "iopub.status.busy": "2023-07-19T17:11:57.402928Z",
     "iopub.status.idle": "2023-07-19T17:11:57.417507Z",
     "shell.execute_reply": "2023-07-19T17:11:57.416258Z"
    },
    "papermill": {
     "duration": 0.036324,
     "end_time": "2023-07-19T17:11:57.419781",
     "exception": false,
     "start_time": "2023-07-19T17:11:57.383457",
     "status": "completed"
    },
    "tags": []
   },
   "outputs": [
    {
     "data": {
      "text/plain": [
       "<bound method NDFrame.head of         TV  Radio  Newspaper  Sales\n",
       "0    230.1   37.8       69.2   22.1\n",
       "1     44.5   39.3       45.1   10.4\n",
       "2     17.2   45.9       69.3    9.3\n",
       "3    151.5   41.3       58.5   18.5\n",
       "4    180.8   10.8       58.4   12.9\n",
       "..     ...    ...        ...    ...\n",
       "195   38.2    3.7       13.8    7.6\n",
       "196   94.2    4.9        8.1    9.7\n",
       "197  177.0    9.3        6.4   12.8\n",
       "198  283.6   42.0       66.2   25.5\n",
       "199  232.1    8.6        8.7   13.4\n",
       "\n",
       "[200 rows x 4 columns]>"
      ]
     },
     "execution_count": 12,
     "metadata": {},
     "output_type": "execute_result"
    }
   ],
   "source": [
    "df.head"
   ]
  },
  {
   "cell_type": "code",
   "execution_count": 13,
   "id": "7b0be493",
   "metadata": {
    "execution": {
     "iopub.execute_input": "2023-07-19T17:11:57.458766Z",
     "iopub.status.busy": "2023-07-19T17:11:57.458271Z",
     "iopub.status.idle": "2023-07-19T17:11:57.463624Z",
     "shell.execute_reply": "2023-07-19T17:11:57.462490Z"
    },
    "papermill": {
     "duration": 0.027601,
     "end_time": "2023-07-19T17:11:57.465835",
     "exception": false,
     "start_time": "2023-07-19T17:11:57.438234",
     "status": "completed"
    },
    "tags": []
   },
   "outputs": [],
   "source": [
    "# Dataset was Successfully Read and Understood "
   ]
  },
  {
   "cell_type": "code",
   "execution_count": 14,
   "id": "de1814cd",
   "metadata": {
    "execution": {
     "iopub.execute_input": "2023-07-19T17:11:57.504177Z",
     "iopub.status.busy": "2023-07-19T17:11:57.503633Z",
     "iopub.status.idle": "2023-07-19T17:11:57.509010Z",
     "shell.execute_reply": "2023-07-19T17:11:57.507883Z"
    },
    "papermill": {
     "duration": 0.027335,
     "end_time": "2023-07-19T17:11:57.511169",
     "exception": false,
     "start_time": "2023-07-19T17:11:57.483834",
     "status": "completed"
    },
    "tags": []
   },
   "outputs": [],
   "source": [
    "# Checking for any Missing Values or Duplicates "
   ]
  },
  {
   "cell_type": "code",
   "execution_count": 15,
   "id": "f09ec877",
   "metadata": {
    "execution": {
     "iopub.execute_input": "2023-07-19T17:11:57.550300Z",
     "iopub.status.busy": "2023-07-19T17:11:57.549331Z",
     "iopub.status.idle": "2023-07-19T17:11:57.560423Z",
     "shell.execute_reply": "2023-07-19T17:11:57.559232Z"
    },
    "papermill": {
     "duration": 0.033452,
     "end_time": "2023-07-19T17:11:57.562855",
     "exception": false,
     "start_time": "2023-07-19T17:11:57.529403",
     "status": "completed"
    },
    "tags": []
   },
   "outputs": [
    {
     "data": {
      "text/plain": [
       "TV           0\n",
       "Radio        0\n",
       "Newspaper    0\n",
       "Sales        0\n",
       "dtype: int64"
      ]
     },
     "execution_count": 15,
     "metadata": {},
     "output_type": "execute_result"
    }
   ],
   "source": [
    "df.isnull().values.any()\n",
    "df.isnull().sum()"
   ]
  },
  {
   "cell_type": "code",
   "execution_count": 16,
   "id": "63afd03a",
   "metadata": {
    "execution": {
     "iopub.execute_input": "2023-07-19T17:11:57.602665Z",
     "iopub.status.busy": "2023-07-19T17:11:57.602189Z",
     "iopub.status.idle": "2023-07-19T17:11:57.613257Z",
     "shell.execute_reply": "2023-07-19T17:11:57.612080Z"
    },
    "papermill": {
     "duration": 0.034287,
     "end_time": "2023-07-19T17:11:57.615706",
     "exception": false,
     "start_time": "2023-07-19T17:11:57.581419",
     "status": "completed"
    },
    "tags": []
   },
   "outputs": [
    {
     "data": {
      "text/plain": [
       "0"
      ]
     },
     "execution_count": 16,
     "metadata": {},
     "output_type": "execute_result"
    }
   ],
   "source": [
    "df.duplicated().sum()"
   ]
  },
  {
   "cell_type": "code",
   "execution_count": 17,
   "id": "78c0b2af",
   "metadata": {
    "execution": {
     "iopub.execute_input": "2023-07-19T17:11:57.657176Z",
     "iopub.status.busy": "2023-07-19T17:11:57.656687Z",
     "iopub.status.idle": "2023-07-19T17:11:57.661592Z",
     "shell.execute_reply": "2023-07-19T17:11:57.660466Z"
    },
    "papermill": {
     "duration": 0.026947,
     "end_time": "2023-07-19T17:11:57.663907",
     "exception": false,
     "start_time": "2023-07-19T17:11:57.636960",
     "status": "completed"
    },
    "tags": []
   },
   "outputs": [],
   "source": [
    "# Using Seaborn Library "
   ]
  },
  {
   "cell_type": "code",
   "execution_count": 18,
   "id": "95486ef9",
   "metadata": {
    "execution": {
     "iopub.execute_input": "2023-07-19T17:11:57.702746Z",
     "iopub.status.busy": "2023-07-19T17:11:57.702280Z",
     "iopub.status.idle": "2023-07-19T17:11:57.706953Z",
     "shell.execute_reply": "2023-07-19T17:11:57.705889Z"
    },
    "papermill": {
     "duration": 0.02702,
     "end_time": "2023-07-19T17:11:57.709277",
     "exception": false,
     "start_time": "2023-07-19T17:11:57.682257",
     "status": "completed"
    },
    "tags": []
   },
   "outputs": [],
   "source": [
    "# Visualizing the Relationship between Variable \"TV\" and Variable \"Sales\"\n",
    "# Visualizing the Relationship between Variable \"Radio\" and Variable \"Sales\"\n",
    "# Visualizing the Relationship between Variable \"Newspapers\" and Variable \"Sales\""
   ]
  },
  {
   "cell_type": "code",
   "execution_count": 19,
   "id": "edf0ca85",
   "metadata": {
    "execution": {
     "iopub.execute_input": "2023-07-19T17:11:57.747849Z",
     "iopub.status.busy": "2023-07-19T17:11:57.747384Z",
     "iopub.status.idle": "2023-07-19T17:11:58.043700Z",
     "shell.execute_reply": "2023-07-19T17:11:58.042474Z"
    },
    "papermill": {
     "duration": 0.319356,
     "end_time": "2023-07-19T17:11:58.046713",
     "exception": false,
     "start_time": "2023-07-19T17:11:57.727357",
     "status": "completed"
    },
    "tags": []
   },
   "outputs": [
    {
     "data": {
      "image/png": "[encoded data removed]",
      "text/plain": [
       "<Figure size 400x400 with 1 Axes>"
      ]
     },
     "metadata": {},
     "output_type": "display_data"
    }
   ],
   "source": [
    "plt.figure(figsize=(4,4))\n",
    "sns.scatterplot(data=df,x=df['TV'],y=df['Sales'])\n",
    "plt.show()"
   ]
  },
  {
   "cell_type": "code",
   "execution_count": 20,
   "id": "c84fd83c",
   "metadata": {
    "execution": {
     "iopub.execute_input": "2023-07-19T17:11:58.087034Z",
     "iopub.status.busy": "2023-07-19T17:11:58.086557Z",
     "iopub.status.idle": "2023-07-19T17:11:58.350960Z",
     "shell.execute_reply": "2023-07-19T17:11:58.349672Z"
    },
    "papermill": {
     "duration": 0.288107,
     "end_time": "2023-07-19T17:11:58.354115",
     "exception": false,
     "start_time": "2023-07-19T17:11:58.066008",
     "status": "completed"
    },
    "tags": []
   },
   "outputs": [
    {
     "data": {
      "image/png": "[encoded data removed]",
      "text/plain": [
       "<Figure size 400x400 with 1 Axes>"
      ]
     },
     "metadata": {},
     "output_type": "display_data"
    }
   ],
   "source": [
    "plt.figure(figsize=(4,4))\n",
    "sns.scatterplot(data=df,x=df['Radio'],y=df['Sales'])\n",
    "plt.show()"
   ]
  },
  {
   "cell_type": "code",
   "execution_count": 21,
   "id": "03703b5c",
   "metadata": {
    "execution": {
     "iopub.execute_input": "2023-07-19T17:11:58.396125Z",
     "iopub.status.busy": "2023-07-19T17:11:58.395043Z",
     "iopub.status.idle": "2023-07-19T17:11:58.657278Z",
     "shell.execute_reply": "2023-07-19T17:11:58.656181Z"
    },
    "papermill": {
     "duration": 0.286512,
     "end_time": "2023-07-19T17:11:58.660161",
     "exception": false,
     "start_time": "2023-07-19T17:11:58.373649",
     "status": "completed"
    },
    "tags": []
   },
   "outputs": [
    {
     "data": {
      "image/png": "[encoded data removed]",
      "text/plain": [
       "<Figure size 400x400 with 1 Axes>"
      ]
     },
     "metadata": {},
     "output_type": "display_data"
    }
   ],
   "source": [
    "plt.figure(figsize=(4,4))\n",
    "sns.scatterplot(data=df,x=df['Newspaper'],y=df['Sales'])\n",
    "plt.show()"
   ]
  },
  {
   "cell_type": "code",
   "execution_count": 22,
   "id": "4b3d63b3",
   "metadata": {
    "execution": {
     "iopub.execute_input": "2023-07-19T17:11:58.701932Z",
     "iopub.status.busy": "2023-07-19T17:11:58.701452Z",
     "iopub.status.idle": "2023-07-19T17:11:58.706993Z",
     "shell.execute_reply": "2023-07-19T17:11:58.705852Z"
    },
    "papermill": {
     "duration": 0.029429,
     "end_time": "2023-07-19T17:11:58.709507",
     "exception": false,
     "start_time": "2023-07-19T17:11:58.680078",
     "status": "completed"
    },
    "tags": []
   },
   "outputs": [],
   "source": [
    "# Checking main assumptions of Linear Regression:\n",
    "# Linearity \n",
    "# Normality\n",
    "# Multicollinearity"
   ]
  },
  {
   "cell_type": "code",
   "execution_count": 23,
   "id": "ab429b62",
   "metadata": {
    "execution": {
     "iopub.execute_input": "2023-07-19T17:11:58.752010Z",
     "iopub.status.busy": "2023-07-19T17:11:58.750797Z",
     "iopub.status.idle": "2023-07-19T17:11:58.756187Z",
     "shell.execute_reply": "2023-07-19T17:11:58.755102Z"
    },
    "papermill": {
     "duration": 0.029202,
     "end_time": "2023-07-19T17:11:58.758579",
     "exception": false,
     "start_time": "2023-07-19T17:11:58.729377",
     "status": "completed"
    },
    "tags": []
   },
   "outputs": [],
   "source": [
    "# Linearity "
   ]
  },
  {
   "cell_type": "code",
   "execution_count": 24,
   "id": "625acff2",
   "metadata": {
    "execution": {
     "iopub.execute_input": "2023-07-19T17:11:58.801258Z",
     "iopub.status.busy": "2023-07-19T17:11:58.800333Z",
     "iopub.status.idle": "2023-07-19T17:12:00.019651Z",
     "shell.execute_reply": "2023-07-19T17:12:00.018401Z"
    },
    "papermill": {
     "duration": 1.244262,
     "end_time": "2023-07-19T17:12:00.023013",
     "exception": false,
     "start_time": "2023-07-19T17:11:58.778751",
     "status": "completed"
    },
    "tags": []
   },
   "outputs": [
    {
     "data": {
      "text/plain": [
       "<seaborn.axisgrid.PairGrid at 0x7fd588897fd0>"
      ]
     },
     "execution_count": 24,
     "metadata": {},
     "output_type": "execute_result"
    },
    {
     "data": {
      "image/png": "[encoded data removed]",
      "text/plain": [
       "<Figure size 750x250 with 3 Axes>"
      ]
     },
     "metadata": {},
     "output_type": "display_data"
    }
   ],
   "source": [
    "sns.pairplot(df,x_vars=[\"TV\",\"Radio\",\"Newspaper\"],y_vars= \"Sales\",kind=\"reg\")"
   ]
  },
  {
   "cell_type": "code",
   "execution_count": 25,
   "id": "dc8ddf9a",
   "metadata": {
    "execution": {
     "iopub.execute_input": "2023-07-19T17:12:00.069454Z",
     "iopub.status.busy": "2023-07-19T17:12:00.068491Z",
     "iopub.status.idle": "2023-07-19T17:12:01.053252Z",
     "shell.execute_reply": "2023-07-19T17:12:01.052107Z"
    },
    "papermill": {
     "duration": 1.011067,
     "end_time": "2023-07-19T17:12:01.055854",
     "exception": false,
     "start_time": "2023-07-19T17:12:00.044787",
     "status": "completed"
    },
    "tags": []
   },
   "outputs": [
    {
     "data": {
      "text/plain": [
       "array([[<Axes: title={'center': 'TV'}>,\n",
       "        <Axes: title={'center': 'Radio'}>],\n",
       "       [<Axes: title={'center': 'Newspaper'}>,\n",
       "        <Axes: title={'center': 'Sales'}>]], dtype=object)"
      ]
     },
     "execution_count": 25,
     "metadata": {},
     "output_type": "execute_result"
    },
    {
     "data": {
      "image/png": "[encoded data removed]",
      "text/plain": [
       "<Figure size 640x480 with 4 Axes>"
      ]
     },
     "metadata": {},
     "output_type": "display_data"
    }
   ],
   "source": [
    "df.hist(bins=20)"
   ]
  },
  {
   "cell_type": "code",
   "execution_count": 26,
   "id": "c6f7642b",
   "metadata": {
    "execution": {
     "iopub.execute_input": "2023-07-19T17:12:01.103096Z",
     "iopub.status.busy": "2023-07-19T17:12:01.102234Z",
     "iopub.status.idle": "2023-07-19T17:12:01.107525Z",
     "shell.execute_reply": "2023-07-19T17:12:01.106352Z"
    },
    "papermill": {
     "duration": 0.031691,
     "end_time": "2023-07-19T17:12:01.109941",
     "exception": false,
     "start_time": "2023-07-19T17:12:01.078250",
     "status": "completed"
    },
    "tags": []
   },
   "outputs": [],
   "source": [
    "# Normality "
   ]
  },
  {
   "cell_type": "code",
   "execution_count": 27,
   "id": "047b15b8",
   "metadata": {
    "execution": {
     "iopub.execute_input": "2023-07-19T17:12:01.157083Z",
     "iopub.status.busy": "2023-07-19T17:12:01.155915Z",
     "iopub.status.idle": "2023-07-19T17:12:01.597501Z",
     "shell.execute_reply": "2023-07-19T17:12:01.596435Z"
    },
    "papermill": {
     "duration": 0.468466,
     "end_time": "2023-07-19T17:12:01.600377",
     "exception": false,
     "start_time": "2023-07-19T17:12:01.131911",
     "status": "completed"
    },
    "tags": []
   },
   "outputs": [
    {
     "data": {
      "text/plain": [
       "<seaborn.axisgrid.FacetGrid at 0x7fd59a84fd60>"
      ]
     },
     "execution_count": 27,
     "metadata": {},
     "output_type": "execute_result"
    },
    {
     "data": {
      "image/png": "[encoded data removed]",
      "text/plain": [
       "<Figure size 500x500 with 1 Axes>"
      ]
     },
     "metadata": {},
     "output_type": "display_data"
    }
   ],
   "source": [
    "sns.displot(df.Sales, bins=10, color=\"blue\", kde=True)"
   ]
  },
  {
   "cell_type": "code",
   "execution_count": 28,
   "id": "8f340ca6",
   "metadata": {
    "execution": {
     "iopub.execute_input": "2023-07-19T17:12:01.649408Z",
     "iopub.status.busy": "2023-07-19T17:12:01.648846Z",
     "iopub.status.idle": "2023-07-19T17:12:01.654407Z",
     "shell.execute_reply": "2023-07-19T17:12:01.653178Z"
    },
    "papermill": {
     "duration": 0.033038,
     "end_time": "2023-07-19T17:12:01.656744",
     "exception": false,
     "start_time": "2023-07-19T17:12:01.623706",
     "status": "completed"
    },
    "tags": []
   },
   "outputs": [],
   "source": [
    "# Multicollinearity"
   ]
  },
  {
   "cell_type": "code",
   "execution_count": 29,
   "id": "ae4be7b9",
   "metadata": {
    "execution": {
     "iopub.execute_input": "2023-07-19T17:12:01.706348Z",
     "iopub.status.busy": "2023-07-19T17:12:01.704885Z",
     "iopub.status.idle": "2023-07-19T17:12:01.716472Z",
     "shell.execute_reply": "2023-07-19T17:12:01.715428Z"
    },
    "papermill": {
     "duration": 0.038981,
     "end_time": "2023-07-19T17:12:01.718711",
     "exception": false,
     "start_time": "2023-07-19T17:12:01.679730",
     "status": "completed"
    },
    "tags": []
   },
   "outputs": [
    {
     "name": "stdout",
     "output_type": "stream",
     "text": [
      "Sales        1.000000\n",
      "TV           0.782224\n",
      "Radio        0.576223\n",
      "Newspaper    0.228299\n",
      "Name: Sales, dtype: float64\n"
     ]
    }
   ],
   "source": [
    "num_cols = df[[\"TV\",\"Radio\",\"Newspaper\"]]\n",
    "a = df.corr()['Sales'].sort_values(ascending=False)\n",
    "print(a)"
   ]
  },
  {
   "cell_type": "code",
   "execution_count": 30,
   "id": "a75f938f",
   "metadata": {
    "execution": {
     "iopub.execute_input": "2023-07-19T17:12:01.766917Z",
     "iopub.status.busy": "2023-07-19T17:12:01.766418Z",
     "iopub.status.idle": "2023-07-19T17:12:01.771793Z",
     "shell.execute_reply": "2023-07-19T17:12:01.770483Z"
    },
    "papermill": {
     "duration": 0.032317,
     "end_time": "2023-07-19T17:12:01.774096",
     "exception": false,
     "start_time": "2023-07-19T17:12:01.741779",
     "status": "completed"
    },
    "tags": []
   },
   "outputs": [],
   "source": [
    "# Correlation of Different variables using Heatmap "
   ]
  },
  {
   "cell_type": "code",
   "execution_count": 31,
   "id": "5c97d30e",
   "metadata": {
    "execution": {
     "iopub.execute_input": "2023-07-19T17:12:01.822251Z",
     "iopub.status.busy": "2023-07-19T17:12:01.821716Z",
     "iopub.status.idle": "2023-07-19T17:12:02.408620Z",
     "shell.execute_reply": "2023-07-19T17:12:02.407236Z"
    },
    "papermill": {
     "duration": 0.614341,
     "end_time": "2023-07-19T17:12:02.411502",
     "exception": false,
     "start_time": "2023-07-19T17:12:01.797161",
     "status": "completed"
    },
    "tags": []
   },
   "outputs": [
    {
     "data": {
      "image/png": "[encoded data removed]",
      "text/plain": [
       "<Figure size 1200x900 with 2 Axes>"
      ]
     },
     "metadata": {},
     "output_type": "display_data"
    }
   ],
   "source": [
    "corrmat = df.corr()\n",
    "f, ax = plt.subplots(figsize=(12, 9))\n",
    "sns.heatmap(corrmat,vmin = 0,vmax=1,square=True,cmap=\"YlGnBu\",ax=ax)\n",
    "plt.show()"
   ]
  },
  {
   "cell_type": "code",
   "execution_count": 32,
   "id": "74eaf9bf",
   "metadata": {
    "execution": {
     "iopub.execute_input": "2023-07-19T17:12:02.461381Z",
     "iopub.status.busy": "2023-07-19T17:12:02.460762Z",
     "iopub.status.idle": "2023-07-19T17:12:02.466690Z",
     "shell.execute_reply": "2023-07-19T17:12:02.465448Z"
    },
    "papermill": {
     "duration": 0.033481,
     "end_time": "2023-07-19T17:12:02.469079",
     "exception": false,
     "start_time": "2023-07-19T17:12:02.435598",
     "status": "completed"
    },
    "tags": []
   },
   "outputs": [],
   "source": [
    "#There is no multicolinearity between among independent/dependent variable"
   ]
  },
  {
   "cell_type": "code",
   "execution_count": 33,
   "id": "e3f6ad02",
   "metadata": {
    "execution": {
     "iopub.execute_input": "2023-07-19T17:12:02.518818Z",
     "iopub.status.busy": "2023-07-19T17:12:02.517339Z",
     "iopub.status.idle": "2023-07-19T17:12:02.523014Z",
     "shell.execute_reply": "2023-07-19T17:12:02.521851Z"
    },
    "papermill": {
     "duration": 0.032886,
     "end_time": "2023-07-19T17:12:02.525458",
     "exception": false,
     "start_time": "2023-07-19T17:12:02.492572",
     "status": "completed"
    },
    "tags": []
   },
   "outputs": [],
   "source": [
    "# Splitting Data \n",
    "# Using Train-Test Split"
   ]
  },
  {
   "cell_type": "code",
   "execution_count": 34,
   "id": "5f679688",
   "metadata": {
    "execution": {
     "iopub.execute_input": "2023-07-19T17:12:02.575091Z",
     "iopub.status.busy": "2023-07-19T17:12:02.573905Z",
     "iopub.status.idle": "2023-07-19T17:12:02.583706Z",
     "shell.execute_reply": "2023-07-19T17:12:02.582618Z"
    },
    "papermill": {
     "duration": 0.037792,
     "end_time": "2023-07-19T17:12:02.586532",
     "exception": false,
     "start_time": "2023-07-19T17:12:02.548740",
     "status": "completed"
    },
    "tags": []
   },
   "outputs": [],
   "source": [
    "features = [\"TV\", \"Radio\", \"Newspaper\"]\n",
    "X = df[features]\n",
    "target = \"Sales\"\n",
    "y = df[target]\n",
    "\n",
    "X_train, X_test, y_train, y_test = train_test_split(X, y, test_size=0.2, random_state=42) "
   ]
  },
  {
   "cell_type": "code",
   "execution_count": 35,
   "id": "c5302e08",
   "metadata": {
    "execution": {
     "iopub.execute_input": "2023-07-19T17:12:02.639213Z",
     "iopub.status.busy": "2023-07-19T17:12:02.638059Z",
     "iopub.status.idle": "2023-07-19T17:12:02.642992Z",
     "shell.execute_reply": "2023-07-19T17:12:02.642199Z"
    },
    "papermill": {
     "duration": 0.034463,
     "end_time": "2023-07-19T17:12:02.645360",
     "exception": false,
     "start_time": "2023-07-19T17:12:02.610897",
     "status": "completed"
    },
    "tags": []
   },
   "outputs": [],
   "source": [
    "# Building the Model"
   ]
  },
  {
   "cell_type": "code",
   "execution_count": 36,
   "id": "39bf489b",
   "metadata": {
    "execution": {
     "iopub.execute_input": "2023-07-19T17:12:02.699752Z",
     "iopub.status.busy": "2023-07-19T17:12:02.698581Z",
     "iopub.status.idle": "2023-07-19T17:12:02.711403Z",
     "shell.execute_reply": "2023-07-19T17:12:02.710292Z"
    },
    "papermill": {
     "duration": 0.045028,
     "end_time": "2023-07-19T17:12:02.714859",
     "exception": false,
     "start_time": "2023-07-19T17:12:02.669831",
     "status": "completed"
    },
    "tags": []
   },
   "outputs": [
    {
     "name": "stdout",
     "output_type": "stream",
     "text": [
      "Mean Error:  14.1\n",
      "Baseline Error:  [14.1, 14.1, 14.1, 14.1, 14.1]\n",
      "MAE Baseline:  4.12\n"
     ]
    }
   ],
   "source": [
    "y_mean = y_train.mean()\n",
    "print(\"Mean Error: \", y_mean)\n",
    "y_pred_baseline = [y_mean] * len(y_train)\n",
    "print(\"Baseline Error: \", y_pred_baseline[:5])\n",
    "mae_baseline = mean_absolute_error(y_train, y_pred_baseline)\n",
    "print(\"MAE Baseline: \", mae_baseline)"
   ]
  },
  {
   "cell_type": "code",
   "execution_count": 37,
   "id": "d2220b02",
   "metadata": {
    "execution": {
     "iopub.execute_input": "2023-07-19T17:12:02.778192Z",
     "iopub.status.busy": "2023-07-19T17:12:02.777738Z",
     "iopub.status.idle": "2023-07-19T17:12:02.783389Z",
     "shell.execute_reply": "2023-07-19T17:12:02.782145Z"
    },
    "papermill": {
     "duration": 0.03784,
     "end_time": "2023-07-19T17:12:02.785732",
     "exception": false,
     "start_time": "2023-07-19T17:12:02.747892",
     "status": "completed"
    },
    "tags": []
   },
   "outputs": [],
   "source": [
    "# Model Instantiation"
   ]
  },
  {
   "cell_type": "code",
   "execution_count": 38,
   "id": "e36a0427",
   "metadata": {
    "execution": {
     "iopub.execute_input": "2023-07-19T17:12:02.834957Z",
     "iopub.status.busy": "2023-07-19T17:12:02.834489Z",
     "iopub.status.idle": "2023-07-19T17:12:02.870109Z",
     "shell.execute_reply": "2023-07-19T17:12:02.868878Z"
    },
    "papermill": {
     "duration": 0.064372,
     "end_time": "2023-07-19T17:12:02.873699",
     "exception": false,
     "start_time": "2023-07-19T17:12:02.809327",
     "status": "completed"
    },
    "tags": []
   },
   "outputs": [
    {
     "data": {
      "text/html": [
       "<style>#sk-container-id-1 {color: black;background-color: white;}#sk-container-id-1 pre{padding: 0;}#sk-container-id-1 div.sk-toggleable {background-color: white;}#sk-container-id-1 label.sk-toggleable__label {cursor: pointer;display: block;width: 100%;margin-bottom: 0;padding: 0.3em;box-sizing: border-box;text-align: center;}#sk-container-id-1 label.sk-toggleable__label-arrow:before {content: \"▸\";float: left;margin-right: 0.25em;color: #696969;}#sk-container-id-1 label.sk-toggleable__label-arrow:hover:before {color: black;}#sk-container-id-1 div.sk-estimator:hover label.sk-toggleable__label-arrow:before {color: black;}#sk-container-id-1 div.sk-toggleable__content {max-height: 0;max-width: 0;overflow: hidden;text-align: left;background-color: #f0f8ff;}#sk-container-id-1 div.sk-toggleable__content pre {margin: 0.2em;color: black;border-radius: 0.25em;background-color: #f0f8ff;}#sk-container-id-1 input.sk-toggleable__control:checked~div.sk-toggleable__content {max-height: 200px;max-width: 100%;overflow: auto;}#sk-container-id-1 input.sk-toggleable__control:checked~label.sk-toggleable__label-arrow:before {content: \"▾\";}#sk-container-id-1 div.sk-estimator input.sk-toggleable__control:checked~label.sk-toggleable__label {background-color: #d4ebff;}#sk-container-id-1 div.sk-label input.sk-toggleable__control:checked~label.sk-toggleable__label {background-color: #d4ebff;}#sk-container-id-1 input.sk-hidden--visually {border: 0;clip: rect(1px 1px 1px 1px);clip: rect(1px, 1px, 1px, 1px);height: 1px;margin: -1px;overflow: hidden;padding: 0;position: absolute;width: 1px;}#sk-container-id-1 div.sk-estimator {font-family: monospace;background-color: #f0f8ff;border: 1px dotted black;border-radius: 0.25em;box-sizing: border-box;margin-bottom: 0.5em;}#sk-container-id-1 div.sk-estimator:hover {background-color: #d4ebff;}#sk-container-id-1 div.sk-parallel-item::after {content: \"\";width: 100%;border-bottom: 1px solid gray;flex-grow: 1;}#sk-container-id-1 div.sk-label:hover label.sk-toggleable__label {background-color: #d4ebff;}#sk-container-id-1 div.sk-serial::before {content: \"\";position: absolute;border-left: 1px solid gray;box-sizing: border-box;top: 0;bottom: 0;left: 50%;z-index: 0;}#sk-container-id-1 div.sk-serial {display: flex;flex-direction: column;align-items: center;background-color: white;padding-right: 0.2em;padding-left: 0.2em;position: relative;}#sk-container-id-1 div.sk-item {position: relative;z-index: 1;}#sk-container-id-1 div.sk-parallel {display: flex;align-items: stretch;justify-content: center;background-color: white;position: relative;}#sk-container-id-1 div.sk-item::before, #sk-container-id-1 div.sk-parallel-item::before {content: \"\";position: absolute;border-left: 1px solid gray;box-sizing: border-box;top: 0;bottom: 0;left: 50%;z-index: -1;}#sk-container-id-1 div.sk-parallel-item {display: flex;flex-direction: column;z-index: 1;position: relative;background-color: white;}#sk-container-id-1 div.sk-parallel-item:first-child::after {align-self: flex-end;width: 50%;}#sk-container-id-1 div.sk-parallel-item:last-child::after {align-self: flex-start;width: 50%;}#sk-container-id-1 div.sk-parallel-item:only-child::after {width: 0;}#sk-container-id-1 div.sk-dashed-wrapped {border: 1px dashed gray;margin: 0 0.4em 0.5em 0.4em;box-sizing: border-box;padding-bottom: 0.4em;background-color: white;}#sk-container-id-1 div.sk-label label {font-family: monospace;font-weight: bold;display: inline-block;line-height: 1.2em;}#sk-container-id-1 div.sk-label-container {text-align: center;}#sk-container-id-1 div.sk-container {/* jupyter's `normalize.less` sets `[hidden] { display: none; }` but bootstrap.min.css set `[hidden] { display: none !important; }` so we also need the `!important` here to be able to override the default hidden behavior on the sphinx rendered scikit-learn.org. See: https://github.com/scikit-learn/scikit-learn/issues/21755 */display: inline-block !important;position: relative;}#sk-container-id-1 div.sk-text-repr-fallback {display: none;}</style><div id=\"sk-container-id-1\" class=\"sk-top-container\"><div class=\"sk-text-repr-fallback\"><pre>LinearRegression()</pre><b>In a Jupyter environment, please rerun this cell to show the HTML representation or trust the notebook. <br />On GitHub, the HTML representation is unable to render, please try loading this page with nbviewer.org.</b></div><div class=\"sk-container\" hidden><div class=\"sk-item\"><div class=\"sk-estimator sk-toggleable\"><input class=\"sk-toggleable__control sk-hidden--visually\" id=\"sk-estimator-id-1\" type=\"checkbox\" checked><label for=\"sk-estimator-id-1\" class=\"sk-toggleable__label sk-toggleable__label-arrow\">LinearRegression</label><div class=\"sk-toggleable__content\"><pre>LinearRegression()</pre></div></div></div></div></div>"
      ],
      "text/plain": [
       "LinearRegression()"
      ]
     },
     "execution_count": 38,
     "metadata": {},
     "output_type": "execute_result"
    }
   ],
   "source": [
    "model = LinearRegression().fit(X_train, y_train)\n",
    "model"
   ]
  },
  {
   "cell_type": "code",
   "execution_count": 39,
   "id": "f367483f",
   "metadata": {
    "execution": {
     "iopub.execute_input": "2023-07-19T17:12:02.930475Z",
     "iopub.status.busy": "2023-07-19T17:12:02.929807Z",
     "iopub.status.idle": "2023-07-19T17:12:02.935968Z",
     "shell.execute_reply": "2023-07-19T17:12:02.934891Z"
    },
    "papermill": {
     "duration": 0.034743,
     "end_time": "2023-07-19T17:12:02.938615",
     "exception": false,
     "start_time": "2023-07-19T17:12:02.903872",
     "status": "completed"
    },
    "tags": []
   },
   "outputs": [],
   "source": [
    "# Prediction on the Training Data "
   ]
  },
  {
   "cell_type": "code",
   "execution_count": 40,
   "id": "043fabdd",
   "metadata": {
    "execution": {
     "iopub.execute_input": "2023-07-19T17:12:02.989556Z",
     "iopub.status.busy": "2023-07-19T17:12:02.988661Z",
     "iopub.status.idle": "2023-07-19T17:12:03.000623Z",
     "shell.execute_reply": "2023-07-19T17:12:02.999298Z"
    },
    "papermill": {
     "duration": 0.041659,
     "end_time": "2023-07-19T17:12:03.004405",
     "exception": false,
     "start_time": "2023-07-19T17:12:02.962746",
     "status": "completed"
    },
    "tags": []
   },
   "outputs": [
    {
     "name": "stdout",
     "output_type": "stream",
     "text": [
      "Predicted values after model:  [ 9.68827502 12.67337707 10.0553326   8.20010235 13.49562077]\n",
      "MAE for training data after prediction:  1.1984678961500137\n"
     ]
    }
   ],
   "source": [
    "y_pred_training = model.predict(X_train)\n",
    "print(\"Predicted values after model: \", y_pred_training[:5])\n",
    "mae_pred_training = mean_absolute_error(y_train, y_pred_training)\n",
    "print(\"MAE for training data after prediction: \", mae_pred_training)"
   ]
  },
  {
   "cell_type": "code",
   "execution_count": 41,
   "id": "6153b71e",
   "metadata": {
    "execution": {
     "iopub.execute_input": "2023-07-19T17:12:03.065668Z",
     "iopub.status.busy": "2023-07-19T17:12:03.064787Z",
     "iopub.status.idle": "2023-07-19T17:12:03.069079Z",
     "shell.execute_reply": "2023-07-19T17:12:03.068302Z"
    },
    "papermill": {
     "duration": 0.042822,
     "end_time": "2023-07-19T17:12:03.071816",
     "exception": false,
     "start_time": "2023-07-19T17:12:03.028994",
     "status": "completed"
    },
    "tags": []
   },
   "outputs": [],
   "source": [
    "# Prediction on Test Data "
   ]
  },
  {
   "cell_type": "code",
   "execution_count": 42,
   "id": "fff05415",
   "metadata": {
    "execution": {
     "iopub.execute_input": "2023-07-19T17:12:03.126984Z",
     "iopub.status.busy": "2023-07-19T17:12:03.125855Z",
     "iopub.status.idle": "2023-07-19T17:12:03.137890Z",
     "shell.execute_reply": "2023-07-19T17:12:03.136641Z"
    },
    "papermill": {
     "duration": 0.040485,
     "end_time": "2023-07-19T17:12:03.140114",
     "exception": false,
     "start_time": "2023-07-19T17:12:03.099629",
     "status": "completed"
    },
    "tags": []
   },
   "outputs": [
    {
     "name": "stdout",
     "output_type": "stream",
     "text": [
      "Predicted values after model:  [16.4080242  20.88988209 21.55384318 10.60850256 22.11237326]\n",
      "MAE for test data after prediction:  1.4607567168117603\n"
     ]
    }
   ],
   "source": [
    "y_pred_test = model.predict(X_test)\n",
    "print(\"Predicted values after model: \", y_pred_test[:5])\n",
    "mae_pred_test = mean_absolute_error(y_test, y_pred_test)\n",
    "print(\"MAE for test data after prediction: \", mae_pred_test)"
   ]
  },
  {
   "cell_type": "code",
   "execution_count": 43,
   "id": "d9e25876",
   "metadata": {
    "execution": {
     "iopub.execute_input": "2023-07-19T17:12:03.195412Z",
     "iopub.status.busy": "2023-07-19T17:12:03.194892Z",
     "iopub.status.idle": "2023-07-19T17:12:03.203490Z",
     "shell.execute_reply": "2023-07-19T17:12:03.202245Z"
    },
    "papermill": {
     "duration": 0.040842,
     "end_time": "2023-07-19T17:12:03.206909",
     "exception": false,
     "start_time": "2023-07-19T17:12:03.166067",
     "status": "completed"
    },
    "tags": []
   },
   "outputs": [],
   "source": [
    "# Extracting Intercept and Coefficient "
   ]
  },
  {
   "cell_type": "code",
   "execution_count": 44,
   "id": "edfa5e43",
   "metadata": {
    "execution": {
     "iopub.execute_input": "2023-07-19T17:12:03.261703Z",
     "iopub.status.busy": "2023-07-19T17:12:03.260740Z",
     "iopub.status.idle": "2023-07-19T17:12:03.268195Z",
     "shell.execute_reply": "2023-07-19T17:12:03.267078Z"
    },
    "papermill": {
     "duration": 0.036001,
     "end_time": "2023-07-19T17:12:03.270425",
     "exception": false,
     "start_time": "2023-07-19T17:12:03.234424",
     "status": "completed"
    },
    "tags": []
   },
   "outputs": [
    {
     "data": {
      "text/plain": [
       "2.979067338122629"
      ]
     },
     "execution_count": 44,
     "metadata": {},
     "output_type": "execute_result"
    }
   ],
   "source": [
    "intercept = model.intercept_\n",
    "intercept"
   ]
  },
  {
   "cell_type": "code",
   "execution_count": 45,
   "id": "3d857712",
   "metadata": {
    "execution": {
     "iopub.execute_input": "2023-07-19T17:12:03.320992Z",
     "iopub.status.busy": "2023-07-19T17:12:03.320144Z",
     "iopub.status.idle": "2023-07-19T17:12:03.327857Z",
     "shell.execute_reply": "2023-07-19T17:12:03.326690Z"
    },
    "papermill": {
     "duration": 0.035412,
     "end_time": "2023-07-19T17:12:03.329978",
     "exception": false,
     "start_time": "2023-07-19T17:12:03.294566",
     "status": "completed"
    },
    "tags": []
   },
   "outputs": [
    {
     "data": {
      "text/plain": [
       "array([0.04472952, 0.18919505, 0.00276111])"
      ]
     },
     "execution_count": 45,
     "metadata": {},
     "output_type": "execute_result"
    }
   ],
   "source": [
    "coefficient = model.coef_\n",
    "coefficient"
   ]
  },
  {
   "cell_type": "code",
   "execution_count": 46,
   "id": "eba7c9f3",
   "metadata": {
    "execution": {
     "iopub.execute_input": "2023-07-19T17:12:03.379820Z",
     "iopub.status.busy": "2023-07-19T17:12:03.378954Z",
     "iopub.status.idle": "2023-07-19T17:12:03.383927Z",
     "shell.execute_reply": "2023-07-19T17:12:03.383112Z"
    },
    "papermill": {
     "duration": 0.032434,
     "end_time": "2023-07-19T17:12:03.386127",
     "exception": false,
     "start_time": "2023-07-19T17:12:03.353693",
     "status": "completed"
    },
    "tags": []
   },
   "outputs": [],
   "source": [
    "# Multi-Linear Regression Equation"
   ]
  },
  {
   "cell_type": "code",
   "execution_count": 47,
   "id": "06ddae7e",
   "metadata": {
    "execution": {
     "iopub.execute_input": "2023-07-19T17:12:03.436001Z",
     "iopub.status.busy": "2023-07-19T17:12:03.435262Z",
     "iopub.status.idle": "2023-07-19T17:12:03.441819Z",
     "shell.execute_reply": "2023-07-19T17:12:03.440545Z"
    },
    "papermill": {
     "duration": 0.034673,
     "end_time": "2023-07-19T17:12:03.444255",
     "exception": false,
     "start_time": "2023-07-19T17:12:03.409582",
     "status": "completed"
    },
    "tags": []
   },
   "outputs": [
    {
     "name": "stdout",
     "output_type": "stream",
     "text": [
      "Sales = 2.979067338122629 + 0.044729517468716326 * TV + 0.18919505423437652 * Radio + 0.0027611143413671935 * Newspaper\n"
     ]
    }
   ],
   "source": [
    "print(f\"Sales = {intercept} + {coefficient[0]} * TV + {coefficient[1]} * Radio + {coefficient[2]} * Newspaper\")"
   ]
  },
  {
   "cell_type": "code",
   "execution_count": 48,
   "id": "7494f2fa",
   "metadata": {
    "execution": {
     "iopub.execute_input": "2023-07-19T17:12:03.495577Z",
     "iopub.status.busy": "2023-07-19T17:12:03.494210Z",
     "iopub.status.idle": "2023-07-19T17:12:03.499835Z",
     "shell.execute_reply": "2023-07-19T17:12:03.498970Z"
    },
    "papermill": {
     "duration": 0.034126,
     "end_time": "2023-07-19T17:12:03.501977",
     "exception": false,
     "start_time": "2023-07-19T17:12:03.467851",
     "status": "completed"
    },
    "tags": []
   },
   "outputs": [],
   "source": [
    "# Model Evaluation"
   ]
  },
  {
   "cell_type": "code",
   "execution_count": 49,
   "id": "c2fb16c6",
   "metadata": {
    "execution": {
     "iopub.execute_input": "2023-07-19T17:12:03.552083Z",
     "iopub.status.busy": "2023-07-19T17:12:03.551206Z",
     "iopub.status.idle": "2023-07-19T17:12:03.566417Z",
     "shell.execute_reply": "2023-07-19T17:12:03.565245Z"
    },
    "papermill": {
     "duration": 0.043198,
     "end_time": "2023-07-19T17:12:03.569032",
     "exception": false,
     "start_time": "2023-07-19T17:12:03.525834",
     "status": "completed"
    },
    "tags": []
   },
   "outputs": [
    {
     "name": "stdout",
     "output_type": "stream",
     "text": [
      "Score of training data:  0.8957008271017818\n",
      "Score of test data:  0.8957008271017818\n"
     ]
    }
   ],
   "source": [
    "print(\"Score of training data: \", model.score(X_train, y_train))\n",
    "print(\"Score of test data: \", model.score(X_train, y_train))"
   ]
  },
  {
   "cell_type": "code",
   "execution_count": 50,
   "id": "9dd93f5a",
   "metadata": {
    "execution": {
     "iopub.execute_input": "2023-07-19T17:12:03.624138Z",
     "iopub.status.busy": "2023-07-19T17:12:03.622644Z",
     "iopub.status.idle": "2023-07-19T17:12:03.628343Z",
     "shell.execute_reply": "2023-07-19T17:12:03.627411Z"
    },
    "papermill": {
     "duration": 0.034419,
     "end_time": "2023-07-19T17:12:03.630686",
     "exception": false,
     "start_time": "2023-07-19T17:12:03.596267",
     "status": "completed"
    },
    "tags": []
   },
   "outputs": [],
   "source": [
    "# Actual vs Prediction \n",
    "# Training Data "
   ]
  },
  {
   "cell_type": "code",
   "execution_count": 51,
   "id": "1ff08aa4",
   "metadata": {
    "execution": {
     "iopub.execute_input": "2023-07-19T17:12:03.693453Z",
     "iopub.status.busy": "2023-07-19T17:12:03.691909Z",
     "iopub.status.idle": "2023-07-19T17:12:04.012664Z",
     "shell.execute_reply": "2023-07-19T17:12:04.011405Z"
    },
    "papermill": {
     "duration": 0.358282,
     "end_time": "2023-07-19T17:12:04.015502",
     "exception": false,
     "start_time": "2023-07-19T17:12:03.657220",
     "status": "completed"
    },
    "tags": []
   },
   "outputs": [
    {
     "data": {
      "text/plain": [
       "Text(0.5, 1.0, 'Actual vs Predicted [Training Data]')"
      ]
     },
     "execution_count": 51,
     "metadata": {},
     "output_type": "execute_result"
    },
    {
     "data": {
      "image/png": "[encoded data removed]",
      "text/plain": [
       "<Figure size 640x480 with 1 Axes>"
      ]
     },
     "metadata": {},
     "output_type": "display_data"
    }
   ],
   "source": [
    "plt.scatter(y_train, y_pred_training)\n",
    "plt.xlabel(\"Actual\")\n",
    "plt.ylabel(\"Predicted\")\n",
    "plt.title(\"Actual vs Predicted [Training Data]\")"
   ]
  },
  {
   "cell_type": "code",
   "execution_count": 52,
   "id": "30f33003",
   "metadata": {
    "execution": {
     "iopub.execute_input": "2023-07-19T17:12:04.067347Z",
     "iopub.status.busy": "2023-07-19T17:12:04.066869Z",
     "iopub.status.idle": "2023-07-19T17:12:04.071729Z",
     "shell.execute_reply": "2023-07-19T17:12:04.070617Z"
    },
    "papermill": {
     "duration": 0.033552,
     "end_time": "2023-07-19T17:12:04.074052",
     "exception": false,
     "start_time": "2023-07-19T17:12:04.040500",
     "status": "completed"
    },
    "tags": []
   },
   "outputs": [],
   "source": [
    "# Actual Prediction \n",
    "# Test Data "
   ]
  },
  {
   "cell_type": "code",
   "execution_count": 53,
   "id": "b24d8ee6",
   "metadata": {
    "execution": {
     "iopub.execute_input": "2023-07-19T17:12:04.126230Z",
     "iopub.status.busy": "2023-07-19T17:12:04.125520Z",
     "iopub.status.idle": "2023-07-19T17:12:04.449059Z",
     "shell.execute_reply": "2023-07-19T17:12:04.447807Z"
    },
    "papermill": {
     "duration": 0.352559,
     "end_time": "2023-07-19T17:12:04.451766",
     "exception": false,
     "start_time": "2023-07-19T17:12:04.099207",
     "status": "completed"
    },
    "tags": []
   },
   "outputs": [
    {
     "data": {
      "text/plain": [
       "Text(0.5, 1.0, 'Actual vs Predicted [Test Data]')"
      ]
     },
     "execution_count": 53,
     "metadata": {},
     "output_type": "execute_result"
    },
    {
     "data": {
      "image/png": "[encoded data removed]",
      "text/plain": [
       "<Figure size 640x480 with 1 Axes>"
      ]
     },
     "metadata": {},
     "output_type": "display_data"
    }
   ],
   "source": [
    "plt.scatter(y_test, y_pred_test)\n",
    "plt.xlabel(\"Actual\")\n",
    "plt.ylabel(\"Predicted\")\n",
    "plt.title(\"Actual vs Predicted [Test Data]\")"
   ]
  },
  {
   "cell_type": "code",
   "execution_count": 54,
   "id": "74f4d99b",
   "metadata": {
    "execution": {
     "iopub.execute_input": "2023-07-19T17:12:04.505384Z",
     "iopub.status.busy": "2023-07-19T17:12:04.504828Z",
     "iopub.status.idle": "2023-07-19T17:12:04.510937Z",
     "shell.execute_reply": "2023-07-19T17:12:04.509575Z"
    },
    "papermill": {
     "duration": 0.035713,
     "end_time": "2023-07-19T17:12:04.513322",
     "exception": false,
     "start_time": "2023-07-19T17:12:04.477609",
     "status": "completed"
    },
    "tags": []
   },
   "outputs": [],
   "source": [
    "# Creating Dataframe of Actual vs Predicted Sales "
   ]
  },
  {
   "cell_type": "code",
   "execution_count": 55,
   "id": "a4a9c87a",
   "metadata": {
    "execution": {
     "iopub.execute_input": "2023-07-19T17:12:04.567050Z",
     "iopub.status.busy": "2023-07-19T17:12:04.566010Z",
     "iopub.status.idle": "2023-07-19T17:12:04.579647Z",
     "shell.execute_reply": "2023-07-19T17:12:04.578850Z"
    },
    "papermill": {
     "duration": 0.042734,
     "end_time": "2023-07-19T17:12:04.581765",
     "exception": false,
     "start_time": "2023-07-19T17:12:04.539031",
     "status": "completed"
    },
    "tags": []
   },
   "outputs": [
    {
     "name": "stdout",
     "output_type": "stream",
     "text": [
      "Dataframe:\n"
     ]
    },
    {
     "data": {
      "text/html": [
       "<div>\n",
       "<style scoped>\n",
       "    .dataframe tbody tr th:only-of-type {\n",
       "        vertical-align: middle;\n",
       "    }\n",
       "\n",
       "    .dataframe tbody tr th {\n",
       "        vertical-align: top;\n",
       "    }\n",
       "\n",
       "    .dataframe thead th {\n",
       "        text-align: right;\n",
       "    }\n",
       "</style>\n",
       "<table border=\"1\" class=\"dataframe\">\n",
       "  <thead>\n",
       "    <tr style=\"text-align: right;\">\n",
       "      <th></th>\n",
       "      <th>Actual</th>\n",
       "      <th>Predicted</th>\n",
       "    </tr>\n",
       "  </thead>\n",
       "  <tbody>\n",
       "    <tr>\n",
       "      <th>95</th>\n",
       "      <td>16.9</td>\n",
       "      <td>16.408024</td>\n",
       "    </tr>\n",
       "    <tr>\n",
       "      <th>15</th>\n",
       "      <td>22.4</td>\n",
       "      <td>20.889882</td>\n",
       "    </tr>\n",
       "    <tr>\n",
       "      <th>30</th>\n",
       "      <td>21.4</td>\n",
       "      <td>21.553843</td>\n",
       "    </tr>\n",
       "    <tr>\n",
       "      <th>158</th>\n",
       "      <td>7.3</td>\n",
       "      <td>10.608503</td>\n",
       "    </tr>\n",
       "    <tr>\n",
       "      <th>128</th>\n",
       "      <td>24.7</td>\n",
       "      <td>22.112373</td>\n",
       "    </tr>\n",
       "  </tbody>\n",
       "</table>\n",
       "</div>"
      ],
      "text/plain": [
       "     Actual  Predicted\n",
       "95     16.9  16.408024\n",
       "15     22.4  20.889882\n",
       "30     21.4  21.553843\n",
       "158     7.3  10.608503\n",
       "128    24.7  22.112373"
      ]
     },
     "execution_count": 55,
     "metadata": {},
     "output_type": "execute_result"
    }
   ],
   "source": [
    "print (\"Dataframe:\")\n",
    "y_pred_test_df = pd.DataFrame({\"Actual\":y_test, \"Predicted\":y_pred_test})\n",
    "y_pred_test_df.head()"
   ]
  },
  {
   "cell_type": "code",
   "execution_count": 56,
   "id": "0662b595",
   "metadata": {
    "execution": {
     "iopub.execute_input": "2023-07-19T17:12:04.637630Z",
     "iopub.status.busy": "2023-07-19T17:12:04.636776Z",
     "iopub.status.idle": "2023-07-19T17:12:04.640954Z",
     "shell.execute_reply": "2023-07-19T17:12:04.640204Z"
    },
    "papermill": {
     "duration": 0.035576,
     "end_time": "2023-07-19T17:12:04.643231",
     "exception": false,
     "start_time": "2023-07-19T17:12:04.607655",
     "status": "completed"
    },
    "tags": []
   },
   "outputs": [],
   "source": [
    "#Thankyou "
   ]
  }
 ],
 "metadata": {
  "kernelspec": {
   "display_name": "Python 3",
   "language": "python",
   "name": "python3"
  },
  "language_info": {
   "codemirror_mode": {
    "name": "ipython",
    "version": 3
   },
   "file_extension": ".py",
   "mimetype": "text/x-python",
   "name": "python",
   "nbconvert_exporter": "python",
   "pygments_lexer": "ipython3",
   "version": "3.10.12"
  },
  "papermill": {
   "default_parameters": {},
   "duration": 22.3045,
   "end_time": "2023-07-19T17:12:06.097062",
   "environment_variables": {},
   "exception": null,
   "input_path": "__notebook__.ipynb",
   "output_path": "__notebook__.ipynb",
   "parameters": {},
   "start_time": "2023-07-19T17:11:43.792562",
   "version": "2.4.0"
  }
 },
 "nbformat": 4,
 "nbformat_minor": 5
}
